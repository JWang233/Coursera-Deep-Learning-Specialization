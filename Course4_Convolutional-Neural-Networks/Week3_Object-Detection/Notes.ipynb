{
 "cells": [
  {
   "cell_type": "markdown",
   "metadata": {},
   "source": [
    "# 1. Introduction to Machine Learning Strategy"
   ]
  },
  {
   "cell_type": "markdown",
   "metadata": {},
   "source": [
    "## 1.1 Why ML Strategy"
   ]
  },
  {
   "cell_type": "markdown",
   "metadata": {},
   "source": [
    "**Goal:**\n",
    "- Quickly find the most effective way to improve your model due to the limited time. \n"
   ]
  },
  {
   "cell_type": "markdown",
   "metadata": {},
   "source": [
    "**Ways to Improve:**\n",
    "- collect more data\n",
    "- collect more diverse training set\n",
    "- train algorithm longer with gradient descent \n",
    "- try Adam instead of gradient descent \n",
    "- try bigger network \n",
    "- try smaller network \n",
    "- try dropout \n",
    "- add $L_{2}$ regularization\n",
    "- network architecture\n",
    "    - activation functions\n",
    "    - #hidden units\n",
    "    - #hidden layers\n"
   ]
  },
  {
   "cell_type": "markdown",
   "metadata": {},
   "source": [
    "# 1.2 Orthogonalization"
   ]
  },
  {
   "cell_type": "markdown",
   "metadata": {},
   "source": [
    "**Idea:**\n",
    "- What is tuned will lead to one effect.\n",
    "\n",
    "\n",
    "**Chain of Assumptions in ML:**\n",
    "1. Fit training set well on cost function, also known as Human-level Performance\n",
    "2. Fit dev set well on cost function\n",
    "3. Fit test set well on cost function\n",
    "    - Bigger dev set\n",
    "4. Performs well in real World \n",
    "    - Changing dev set or training set\n",
    "    - Improve cost functions\n",
    "\n",
    "*Early stoping (stop early during the training time) may be not perfect in this chain of assumption.*"
   ]
  },
  {
   "cell_type": "markdown",
   "metadata": {},
   "source": [
    "# 2. Setting up your Goal"
   ]
  },
  {
   "cell_type": "markdown",
   "metadata": {},
   "source": [
    "## 2.1 Single Number Evaluation Metric "
   ]
  },
  {
   "cell_type": "markdown",
   "metadata": {},
   "source": [
    "**Jargons:**\n",
    "- **Precision**: when classifying an image, the probability % of this image is cat\n",
    "- **Recall**: of all the images that really are cats, what % of actual cats are correctly recoginized by the classifier\n",
    "- **F1 Score**: the \"average\" of P and R, \"Harmonic Mean\"\n",
    "$$ F1 = \\frac{2}{\\frac{1}{P} + \\frac{1}{R}} $$\n",
    "\n",
    "*Using a Dev set and Single Number Evaluation Metric tends to speed up iterations.*\n"
   ]
  },
  {
   "cell_type": "markdown",
   "metadata": {},
   "source": [
    "## 2.2 Satisficing and Optimizing Metric"
   ]
  },
  {
   "cell_type": "markdown",
   "metadata": {},
   "source": [
    "**Idea:**\n",
    "- One optimizing number\n",
    "- N-1 satisficing number \n",
    "\n",
    "![](./imgs/optimizing-satisficing.jpg)"
   ]
  },
  {
   "cell_type": "markdown",
   "metadata": {},
   "source": [
    "## 2.3 Train/dev/test Sets"
   ]
  },
  {
   "cell_type": "markdown",
   "metadata": {},
   "source": [
    "**Distributions of Train and Test Sets**\n",
    "- Dev and Test set should come from the same distribution.\n",
    "\n",
    "\n"
   ]
  },
  {
   "cell_type": "markdown",
   "metadata": {},
   "source": [
    "**Size of Test Set:**\n",
    "\n",
    "![](./imgs/set-size.jpg)"
   ]
  },
  {
   "cell_type": "markdown",
   "metadata": {},
   "source": [
    "**When to Change Dev/Test Sets and Metric**\n",
    "\n",
    "- We should change when the output results are not we want (i.e. pornographic images or bad performance on coarse images). \n",
    "\n",
    "- Solution: modify the cost functions, i.e. adding larger weights to the misclassified images. \n",
    "    ![](./imgs/change-evaluation.jpg)\n"
   ]
  },
  {
   "cell_type": "markdown",
   "metadata": {},
   "source": [
    "# 3. Comparing to Human-level Performance"
   ]
  },
  {
   "cell_type": "markdown",
   "metadata": {},
   "source": [
    "## 3.1 Understanding Human-level Performance"
   ]
  },
  {
   "cell_type": "markdown",
   "metadata": {},
   "source": [
    "**Assume:**\n",
    "- **Human-level error as a proxy for Bayes error ($\\leq 0.5 %$) .**\n",
    "- But, different fields have different values, also depending on the data. One takeaway is that sometimes, it is impossible to have zero train error, so there is a human-level performance. \n"
   ]
  },
  {
   "cell_type": "markdown",
   "metadata": {},
   "source": [
    "## 3.2 Error Analysis"
   ]
  },
  {
   "cell_type": "markdown",
   "metadata": {},
   "source": [
    "**Avoidable Bias:**\n",
    "- The difference between human-level error and the train error. \n",
    "\n",
    "Variance: \n",
    "- The difference between the train error and the dev error.\n",
    "\n",
    "![](./imgs/error-analysis.jpg)\n"
   ]
  },
  {
   "cell_type": "markdown",
   "metadata": {},
   "source": [
    "## 3.3 Surpass Human-level Performance"
   ]
  },
  {
   "cell_type": "markdown",
   "metadata": {},
   "source": [
    "Examples: \n",
    "- Online Advertising\n",
    "- Product Recommendation\n",
    "- Logistics (Predicting Transit Time)\n",
    "- Load Approval \n",
    "- Speech Recognition\n",
    "- Some Image Recogniztion\n",
    "\n",
    "**All of those are strutured data, not natural perception.**\n"
   ]
  },
  {
   "cell_type": "markdown",
   "metadata": {},
   "source": [
    "## 3.4 How to Improve your Model Performance"
   ]
  },
  {
   "cell_type": "markdown",
   "metadata": {},
   "source": [
    "**Reduce Avoidable Bias:**\n",
    "- Train bigger model\n",
    "- Train longer/better optimization algorithms\n",
    "    - momentum\n",
    "    - RMSprop\n",
    "    - Adam\n",
    "- NN architecture/hyperparameters search \n",
    "    - RNN\n",
    "    - CNN\n",
    "\n",
    "**Reduce Variance:**\n",
    "- More data\n",
    "- Regularization\n",
    "    - $L_{2}$ \n",
    "    - dropout\n",
    "    - data augmentation\n",
    "- NN architecture/hyperparameters search \n"
   ]
  },
  {
   "cell_type": "markdown",
   "metadata": {},
   "source": [
    "----------"
   ]
  },
  {
   "cell_type": "markdown",
   "metadata": {},
   "source": [
    "# Quiz"
   ]
  },
  {
   "cell_type": "markdown",
   "metadata": {},
   "source": [
    "**1. \"You should not add the citizens' data to the training set, because if the training distribution is different from the dev and test sets, then this will not allow the model to perform well on the test set.\"**\n",
    "\n",
    "*FALSE*\n",
    "- Sometimes we'll need to train the model on the data that is available. Also, adding training data that differs from the dev set may still help the model improve performance on the dev set. \n",
    "- **What matters is that the dev and test set have the same distribution.**"
   ]
  },
  {
   "cell_type": "markdown",
   "metadata": {},
   "source": [
    "**2. A learning algorithm's performance can be better than human-level performance but it can neber be better than Bayes Error.**\n",
    "\n",
    "*TRUE*\n",
    "- Bayes Error is smaller than 0.05%"
   ]
  },
  {
   "cell_type": "markdown",
   "metadata": {},
   "source": [
    "---"
   ]
  },
  {
   "cell_type": "markdown",
   "metadata": {},
   "source": [
    "# Assignments"
   ]
  },
  {
   "cell_type": "markdown",
   "metadata": {},
   "source": [
    "No assignment in this week. "
   ]
  }
 ],
 "metadata": {
  "kernelspec": {
   "display_name": "Python 3",
   "language": "python",
   "name": "python3"
  },
  "language_info": {
   "codemirror_mode": {
    "name": "ipython",
    "version": 3
   },
   "file_extension": ".py",
   "mimetype": "text/x-python",
   "name": "python",
   "nbconvert_exporter": "python",
   "pygments_lexer": "ipython3",
   "version": "3.7.3"
  }
 },
 "nbformat": 4,
 "nbformat_minor": 4
}
