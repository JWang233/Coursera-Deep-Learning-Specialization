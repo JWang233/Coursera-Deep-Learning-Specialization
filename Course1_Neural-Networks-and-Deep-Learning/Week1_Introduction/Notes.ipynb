{
 "cells": [
  {
   "cell_type": "markdown",
   "metadata": {},
   "source": [
    "# 1. Introduction to Deep Learning"
   ]
  },
  {
   "cell_type": "markdown",
   "metadata": {},
   "source": [
    "## 1.1 What is a Neural Network? "
   ]
  },
  {
   "cell_type": "markdown",
   "metadata": {},
   "source": [
    "**Simplest Neural Network (Linear Regression):**\n",
    "- Neuron is the function to map the input data to the predicted variable\n",
    "- E.g. housing price prediction: \n",
    "<img src = 'imgs/housing-price-prediction.jpg'>*Real Example*\n",
    "<img src = 'imgs/housing-price-prediction-simplified.jpg'>*Simplified Network*\n",
    "\n",
    "- Every input data is interconnected with the hidden layers.\n"
   ]
  },
  {
   "cell_type": "markdown",
   "metadata": {},
   "source": [
    "## 1.2 Supervised Learning with Neural Network"
   ]
  },
  {
   "cell_type": "markdown",
   "metadata": {},
   "source": [
    "**Applications:** \n",
    "- Real Estate Estimation (Standard NN) \n",
    "- Online Advertising (Standard NN)\n",
    "- Photo Tagging (CNN)\n",
    "- Speech recognition (RNN)\n",
    "- Machine translation (RNN)\n",
    "- autonomous driving (Complex/Hybrid NN)\n",
    "\n",
    "<img src = 'imgs/standard-nn.jpg'>"
   ]
  },
  {
   "cell_type": "markdown",
   "metadata": {},
   "source": [
    "**Data Types:**\n",
    "- Structured Data\n",
    "- Unstructured Data \n",
    "\n",
    "<img src= 'imgs/data-types.jpg'>\n",
    "\n"
   ]
  },
  {
   "cell_type": "markdown",
   "metadata": {},
   "source": [
    "## 1.3 Why is Deep Learning Taking off?"
   ]
  },
  {
   "cell_type": "markdown",
   "metadata": {},
   "source": [
    "**Scale-driven Learning:**\n",
    "<img src = 'imgs/scale-driven-learning.jpg'>"
   ]
  },
  {
   "cell_type": "markdown",
   "metadata": {},
   "source": [
    "**Signal Functions:**\n",
    "- Sigmoid:\n",
    "    - Gradient is changing to 0, so the learning speed is slow.\n",
    "- RELU: \n",
    "    - Gradient is constant, so as the leraning keeps going, the learning is run much **faster**.\n",
    "<img src = 'imgs/learning-rate.jpg'>\n",
    "\n"
   ]
  },
  {
   "cell_type": "markdown",
   "metadata": {},
   "source": [
    "----------"
   ]
  },
  {
   "cell_type": "markdown",
   "metadata": {},
   "source": [
    "# Quiz"
   ]
  },
  {
   "cell_type": "markdown",
   "metadata": {},
   "source": [
    "When an experienced deep learning engineer works on a new problem, they can usually use insight from previous problems to train a good model on the first try, without needing to iterate multiple times through different models. True/False?\n",
    "- **False**. Finding the characteristics of a model is key to have good performance. Although experience can help, it requires multiple iterations to build a good model.\n"
   ]
  }
 ],
 "metadata": {
  "kernelspec": {
   "display_name": "Python 3",
   "language": "python",
   "name": "python3"
  },
  "language_info": {
   "codemirror_mode": {
    "name": "ipython",
    "version": 3
   },
   "file_extension": ".py",
   "mimetype": "text/x-python",
   "name": "python",
   "nbconvert_exporter": "python",
   "pygments_lexer": "ipython3",
   "version": "3.7.3"
  },
  "toc-autonumbering": false
 },
 "nbformat": 4,
 "nbformat_minor": 2
}
