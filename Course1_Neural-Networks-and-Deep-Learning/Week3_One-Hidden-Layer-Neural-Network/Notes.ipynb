{
 "cells": [
  {
   "cell_type": "markdown",
   "metadata": {},
   "source": [
    "# 1. Shallow Neural Network"
   ]
  },
  {
   "cell_type": "markdown",
   "metadata": {},
   "source": [
    "## 1.1 Neural Network Overview"
   ]
  },
  {
   "cell_type": "markdown",
   "metadata": {},
   "source": [
    "**Notations:**\n",
    "- Each training sample: $x^{(i)}$\n",
    "- Each layer output: $z^{[i]}$\n",
    "- Each hidden unit: $ a_{i} $"
   ]
  },
  {
   "cell_type": "markdown",
   "metadata": {},
   "source": [
    "## 1.2 Neural Network Representation##"
   ]
  },
  {
   "cell_type": "markdown",
   "metadata": {},
   "source": [
    "<img src = 'imgs\\nn-representation.jpg'>\n",
    "\n",
    "- $a^{[l]}_{i}$ represents the activations function at the node $i$ in the layer $l$."
   ]
  },
  {
   "cell_type": "markdown",
   "metadata": {},
   "source": [
    "## 1.3 Computing a Neural Network's Output"
   ]
  },
  {
   "cell_type": "markdown",
   "metadata": {},
   "source": [
    "- Each node has two steps: one is weighted sum and another is the activation function. \n",
    "\n",
    "    <img src = 'imgs\\nn-computing.jpg'>"
   ]
  },
  {
   "cell_type": "markdown",
   "metadata": {},
   "source": [
    "- Be aware that the $z^{[i]}$ or $a^{[i]}$ represents a stacked vector for one training sample. \n",
    "\n",
    "    <img src = 'imgs\\nn-details.jpg'>    "
   ]
  },
  {
   "cell_type": "markdown",
   "metadata": {},
   "source": [
    "## 1.4 Vectorizing Across Multiple Examples"
   ]
  },
  {
   "cell_type": "markdown",
   "metadata": {},
   "source": [
    "**Notations:**\n",
    "\n",
    "- $a^{[2] \\;(i)}$ represents the training sample $i$ in the $2$ layer. \n",
    "\n",
    "**How to Vectorize:** \n",
    "\n",
    "- The horizontal direction (column) represents the training samples, while the vertical direction (row) represent the hidden units.\n",
    "\n",
    "    <img src = \"imgs\\nn-vectorization.jpg\">\n"
   ]
  },
  {
   "cell_type": "markdown",
   "metadata": {},
   "source": [
    "## 1.5 Activation Functions"
   ]
  },
  {
   "cell_type": "markdown",
   "metadata": {},
   "source": [
    "**Hyperbolic Tangent Function $g(z)$:**\n",
    "\n",
    "- The function is defined as: \n",
    "$$ tanh(z) = \\frac{e^{z} - e^{-z}}{e^{z} + e^{z}} $$\n",
    "\n",
    "    <img src = 'imgs\\tanh.png'>\n",
    "    \n",
    "- Advantages: it has zero mean, so in most cases, after we normalize our data whose mean is zero as well, the overall learning performance is going to better than the sigmoid function.\n",
    "\n",
    "- Rarely use the sigmoid function $ \\sigma(z)$ except the output is binary classification $ y \\in \\{0, 1\\} $.\n",
    "    - Solution: we use the tanh function $g(z)$ in the middle layer, while the last layer we use the sigmoid function.  \n",
    "    \n",
    "- Downside: the gradient is very slow when $z$ is very large or small. It can slow down the gradient descent."
   ]
  },
  {
   "cell_type": "markdown",
   "metadata": {},
   "source": [
    "**Rectified Linear Unite $ReLU()$:**\n",
    "\n",
    "- The function is defined as: \n",
    "$$ ReLU \\; (z) = max(0, \\; z) $$ \n",
    "\n",
    "    <img src = 'imgs\\relu.png'> \n",
    "    \n",
    "- Advatange: the slop is either 1 or 0. The neural network can work much more faster.\n",
    "    "
   ]
  },
  {
   "cell_type": "markdown",
   "metadata": {},
   "source": [
    "**Leaking ReLU Function:**\n",
    "\n",
    "- The function is defined as: \n",
    "$$ a \\; (z) = max (0.01x, x) $$\n",
    "\n",
    "    <img src = 'imgs\\leaky-relu.jpg'> \n",
    "    \n",
    "- Same functions as $ ReLU() $ , while not widely used in practice."
   ]
  },
  {
   "cell_type": "markdown",
   "metadata": {},
   "source": [
    "**Rule of Thumb:**\n",
    "\n",
    "- When doing the binary classification, the sigmoid function is the natural choice for the output layer.\n",
    "\n",
    "- $ReLU()$ is the most common use. "
   ]
  },
  {
   "cell_type": "markdown",
   "metadata": {},
   "source": [
    "## 1.6 Why do you Need Non-linear Activation Functions?"
   ]
  },
  {
   "cell_type": "markdown",
   "metadata": {},
   "source": [
    "- If we use a linear/identity activation function, i.e. $$ a (z) = z $$ the output of the neural networks is just **the linear combination of the input data**. Thus, no matter how many hidden layers are used, it is just computing the linear combination without any hidden layer.\n",
    "\n",
    "- One place one may use the linear activation function is when the output is real numbers, i.e. $ y \\in \\mathbb{R} $ in the exmaple of housing price prediction. However, in this case, except the activation function in the output layer, all the other activation functions should use non-linear function."
   ]
  },
  {
   "cell_type": "markdown",
   "metadata": {},
   "source": [
    "## 1.7 Derivatives of Activation Functions"
   ]
  },
  {
   "cell_type": "markdown",
   "metadata": {},
   "source": [
    "**Simgmoid Function:**\n",
    "\n",
    "$$ g(z) = \\frac{1}{1 + e^{-z}} $$\n",
    "\n",
    "\n",
    "$$ g^{'(z)} = g(z)(1 - g(z)) $$\n",
    "\n",
    "    More details are in Week2 Notes."
   ]
  },
  {
   "cell_type": "markdown",
   "metadata": {},
   "source": [
    "**Tanh Function:**\n",
    "\n",
    "$$ g(z) = \\frac{ e^{z} - e^{-z}}{e^{z} + e^{-z}} $$\n",
    "\n",
    "$$ = \\frac{e^{2z} -1}{e^{2z} + 1} $$ \n",
    "\n",
    "$$ = 1 - \\frac{2}{e^{2z} + 1} $$ \n",
    "\n",
    "\n",
    "$$ g^{'(z)} = -2 \\cdot -\\frac{1}{(e^{2z} + 1)^2} \\;\\cdot e^{2z} \\cdot 2 $$\n",
    "\n",
    "$$ = 4 \\frac{e^{2z}}{e^{4z} + 2e^{2z} + 1} $$\n",
    "\n",
    "$$ = 1 - \\frac{e^{2z} + e^{-2z} - 2}{e^{2z} + e^{-2z} + 2} $$ \n",
    "\n",
    "$$ = 1 - \\frac{(e^{z} - e^{-z})^{2}}{(e^{z} + e^{-z})^2} $$\n",
    "\n",
    "$$ = 1 - g(z)^2 $$"
   ]
  },
  {
   "cell_type": "markdown",
   "metadata": {},
   "source": [
    "**$ReLU()$ Function:** \n",
    "\n",
    "$$ g(z) = max (0, z) $$\n",
    "\n",
    "\n",
    "\\begin{equation}\n",
    "  g^{'(z)}=\\begin{cases}\n",
    "    0, & \\text{if $z<0$}.\\\\\n",
    "    1, & \\text{if $z \\geq 0$}.\n",
    "  \\end{cases}\n",
    "\\end{equation}"
   ]
  },
  {
   "cell_type": "markdown",
   "metadata": {},
   "source": [
    "**Leaky $ReLU()$ Function:** \n",
    "\n",
    "$$ g(z) = max (0.01z, z) $$\n",
    "\n",
    "\n",
    "\\begin{equation}\n",
    "  g^{'(z)}=\\begin{cases}\n",
    "    0.01, & \\text{if $z<0$}.\\\\\n",
    "    1, & \\text{if $z \\geq 0$}.\n",
    "  \\end{cases}\n",
    "\\end{equation}"
   ]
  },
  {
   "cell_type": "markdown",
   "metadata": {},
   "source": [
    "## 1.8 Gradient Descent for Neural Networks"
   ]
  },
  {
   "cell_type": "markdown",
   "metadata": {},
   "source": [
    "- Gradient Descent Algorithm:\n",
    "    - Randomly initialize parameters:\n",
    "    \n",
    "    $$ W^{[1]}_{(n^{[1]}, \\; n^{[0]})}, \\; b^{[1]}_{(n^{[1]}, \\; 1)}, \\; W^{[2]}_{(n^{[2]}, \\; n^{[1]})}, \\; b^{[2]}_{(n^{[2]}, \\; 1)}, \\text{where $ n^{[0]} = m, n^{[2]} = 1 $ (two layers) } $$\n",
    "    \n",
    "    - Goal: minimize the cost function \n",
    "    \n",
    "    $$ J(W^{[1]}, \\; b^{[1]}, \\; W^{[2]}, \\; b^{[2]}) = \\frac{1}{m} \\; \\sum_{i = 1}^{m} \\; \\mathcal{L}(\\hat{y}, y) $$\n",
    "    \n",
    "    - Repeat: {\n",
    "        \n",
    "    compute prediction: \n",
    "$$(\\hat{y}^{(i)}, \\; i=1,...,m)$$ \n",
    "        \n",
    "    compute derivatives: \n",
    "$$ dW^{[i]} = \\frac{\\partial J}{\\partial W^{[i]}} $$\n",
    "$$ db^{[i]} = \\frac{\\partial J}{\\partial b^{[i]}} $$\n",
    "    \n",
    "    update parameters: \n",
    "$$ W^{[i]} := W^{[i]} - \\alpha \\; dW^{[i]} $$\n",
    "$$ b^{[i]} := b^{[i]} - \\alpha \\; db^{[i]} $$\n"
   ]
  },
  {
   "cell_type": "markdown",
   "metadata": {},
   "source": [
    "- Formulas for forward propogation: \n",
    "\n",
    "$$ Z^{[1]} = W^{[1]} \\; A^{[0]}+ b^{[1]} $$ \n",
    "\n",
    "$$ A^{[1]} = g^{[1]} \\; (Z^{[1]}) $$\n",
    "\n",
    "$$ Z^{[2]} = W^{[2]} \\; A^{[1]} + b^{[2]} $$ \n",
    "\n",
    "$$ A^{[2]} = g^{[2]} \\; (Z^{[2]}) = \\sigma \\; (Z^{[2]}) $$\n"
   ]
  },
  {
   "cell_type": "markdown",
   "metadata": {},
   "source": [
    "- Formulas for backward propogation:\n",
    "\n",
    "$$ dA^{[2]} = \\frac{\\partial \\mathcal{L}(A^{[2]}, Y)}{\\partial a} = -\\frac{Y}{A^{[2]}} + \\frac{1-Y}{1-A^{[2]}} $$ \n",
    "\n",
    "$$ dZ^{[2]} = dA^{[2]} \\; A^{[2]}(1-A^{[2]}) = A^{[2]} - Y $$\n",
    "\n",
    "$$ dW^{[2]} = \\frac{1}{m} \\; dZ^{[2]} A^{[1]T} $$ \n",
    "\n",
    "$$ db^{[2]} = \\frac{1}{m} \\; \\text{np.sum($dZ^{[2]}$, axis = 1, keepdims = True)} $$ \n",
    "\n",
    "$$ dZ^{[1]} = W^{[2]\\;T} dZ^{[2]} \\ast g^{[z]'}(Z^{[1]}) \\text{, where $\\ast$ is the element-wise product} $$\n",
    "\n",
    "$$ dW^{[1]} = \\frac{1}{m} \\; dZ^{[1]}X^{T} $$\n",
    "\n",
    "$$ db^{[1]} = \\frac{1}{m} \\; \\text{np.sum($dZ^{[1]}$, axis = 1, keepdims = True)} $$\n",
    "\n",
    "\n",
    "The reason why $\\frac{1}{m}$ appears is that the cost function $J = \\sum_{i=1}^{m} $.  \n"
   ]
  },
  {
   "cell_type": "markdown",
   "metadata": {},
   "source": [
    "<img src = 'imgs/summary-dgsnn.png'>"
   ]
  },
  {
   "cell_type": "markdown",
   "metadata": {},
   "source": [
    "## 1.9 Random Initialization"
   ]
  },
  {
   "cell_type": "markdown",
   "metadata": {},
   "source": [
    "- Why Should not Initialize all Weights as 0  \n",
    "    - If we initialize our weights as 0, it turns out that in each iteratin, every hidden node in each layer is computing the same function. It means every hidden node has the same contributions to the next hidden layer. \n",
    "\n",
    "    - Meanwhile, the updates in the backward propotation are same as well. "
   ]
  },
  {
   "cell_type": "markdown",
   "metadata": {},
   "source": [
    "- Solutions:\n",
    "    \n",
    "    - Initialize weights as small random variables \n",
    "    \n",
    "$$ W^{[i]} = \\text{np.random.rand(2,2)} \\ast 0.01 $$\n",
    "\n",
    "$$ b^{[i]} = \\text{np.zeros(2,1)}$$\n",
    "\n",
    "\n",
    "Why is there a constant scaler 0.01? Why not 100?\n",
    "    \n",
    "- The reason is that we want our values are smaller before entering the activation function. In some cases, let's say the tanh() or simgoid() function, when the weights are too large, the outputs of the activation function are also very large. It turns out that the slopes are very small, which means the learning rates are very small.\n",
    "\n",
    "- In the shallow neural network, the scaler can be constant; but in the deep neural network, the best choice is to select different small scalers for each layer. "
   ]
  },
  {
   "cell_type": "markdown",
   "metadata": {},
   "source": [
    "-----------"
   ]
  },
  {
   "cell_type": "markdown",
   "metadata": {},
   "source": [
    "# Quiz"
   ]
  },
  {
   "cell_type": "markdown",
   "metadata": {},
   "source": [
    "Logistic regression’s weights w should be initialized randomly rather than to all zeros, because if you initialize to all zeros, then logistic regression will fail to learn a useful decision boundary because it will fail to “break symmetry”, True/False?\n",
    "\n",
    "- False. **Logistic Regression doesn't have a hidden layer**. If you initialize the weights to zeros, the first example x fed in the logistic regression will output zero but the derivatives of the Logistic Regression depend on the input x (because there's no hidden layer) which is not zero. So at the second iteration, the weights values follow x's distribution and are different from each other if x is not a constant vector. "
   ]
  },
  {
   "cell_type": "markdown",
   "metadata": {},
   "source": [
    "---------------"
   ]
  },
  {
   "cell_type": "markdown",
   "metadata": {},
   "source": [
    "# Assignments"
   ]
  },
  {
   "cell_type": "markdown",
   "metadata": {},
   "source": [
    "## Planar Data Classification with One Hidden Layer"
   ]
  },
  {
   "cell_type": "markdown",
   "metadata": {},
   "source": [
    "**Problems:**\n",
    "- Classify the following data with one hidden layer. \n",
    "    \n",
    "<img src = 'imgs/hw-problem.png'>\n",
    "\n",
    "**Our Model:**\n",
    "\n",
    "<img src = 'imgs/hw-model.png'>\n",
    "\n",
    "**Mathematics:**\n",
    "\n",
    "For one example $x^{(i)}$:\n",
    "\n",
    "$$z^{[1] (i)} =  W^{[1]} x^{(i)} + b^{[1]}\\tag{1}$$ \n",
    "\n",
    "$$a^{[1] (i)} = \\tanh(z^{[1] (i)})\\tag{2}$$\n",
    "\n",
    "$$z^{[2] (i)} = W^{[2]} a^{[1] (i)} + b^{[2]}\\tag{3}$$\n",
    "\n",
    "$$\\hat{y}^{(i)} = a^{[2] (i)} = \\sigma(z^{ [2] (i)})\\tag{4}$$\n",
    "\n",
    "$$y^{(i)}_{prediction} = \\begin{cases} 1 & \\mbox{if } a^{[2](i)} > 0.5 \\\\ 0 & \\mbox{otherwise } \\end{cases}\\tag{5}$$\n"
   ]
  },
  {
   "cell_type": "markdown",
   "metadata": {},
   "source": [
    "**Notations:**\n",
    "\n",
    "- The size of the input layer n_x: the number of features of each input sample \n",
    "\n",
    "- The size of the hidden layer n_h: the number of hidden units in this layer \n",
    "\n",
    "- The size of the output layer n_y: the number of features of the output variable \n",
    "\n",
    "\n",
    "Thus, \n",
    "\n",
    "$$ W^{[1]} : [n_h, n_x], \\; b^{[1]} : [n_h, 1] $$\n",
    "\n",
    "$$ W^{[2]} : [n_y, n_h], \\; b^{[2]} : [n_y, 1] $$\n"
   ]
  },
  {
   "cell_type": "markdown",
   "metadata": {},
   "source": [
    "**Results:**\n",
    "\n",
    "- Simple Logistic Regression: \n",
    "    \n",
    "    only 47% accuracy \n",
    "\n",
    "    <img src = 'imgs/hw-logress.png'>\n",
    "\n",
    "- One Hidden Layer: \n",
    "\n",
    "    90% accuracy\n",
    "    \n",
    "    <img src = 'imgs/hw-nn.png'>"
   ]
  },
  {
   "cell_type": "markdown",
   "metadata": {},
   "source": [
    "**Reflections:**\n",
    "\n",
    "- **Learning rate** should be chosen carefully: \n",
    "\n",
    "    <img src = 'imgs/sgd.gif'>\n",
    "    <img src = 'imgs/sgd_bad.gif'>\n",
    "\n",
    "\n",
    "\n",
    "- Tuning **Hidder Layer Size**:\n",
    "\n",
    "```Python\n",
    "Accuracy for 1 hidden units: 67.5 %\n",
    "Accuracy for 2 hidden units: 67.25 %\n",
    "Accuracy for 3 hidden units: 90.75 %\n",
    "Accuracy for 4 hidden units: 90.5 %\n",
    "Accuracy for 5 hidden units: 91.25 %\n",
    "Accuracy for 20 hidden units: 90.5 %\n",
    "Accuracy for 50 hidden units: 90.75 %\n",
    "```\n",
    "\n",
    "- <img src = 'imgs/hw-tuningHLSize.png'>\n",
    "\n",
    "    - Interpretation:\n",
    "        - The larger models (with more hidden units) are able to fit the training set better, until eventually the largest models **overfit the data**. \n",
    "        - The best hidden layer size seems to be around n_h = 5. Indeed, a value around here seems to  fits the data well without also incurring noticeable overfitting.\n",
    "        - You will also learn later about **regularization**, which lets you use very large models (such as n_h = 50) without much overfitting. \n",
    "        \n",
    "\n",
    "- $tanh()$ is better than $ReLU()$ in this dataset: \n",
    "```Python\n",
    "Accuracy for 1 hidden units: 51.0 %\n",
    "Accuracy for 2 hidden units: 61.75000000000001 %\n",
    "Accuracy for 3 hidden units: 62.5 %\n",
    "Accuracy for 4 hidden units: 61.75000000000001 %\n",
    "Accuracy for 5 hidden units: 61.75000000000001 %\n",
    "Accuracy for 20 hidden units: 72.25 %\n",
    "Accuracy for 50 hidden units: 77.75 %\n",
    "``` \n",
    "- <img src = 'imgs/hw-relu.png'>"
   ]
  },
  {
   "cell_type": "markdown",
   "metadata": {},
   "source": [
    "# Resources"
   ]
  },
  {
   "cell_type": "markdown",
   "metadata": {},
   "source": [
    "- A better Way to Visualize Back Propogation: \n",
    "\n",
    "    - https://google-developers.appspot.com/machine-learning/crash-course/backprop-scroll/\n",
    "    - http://colah.github.io/posts/2015-08-Backprop/\n",
    "    \n",
    "    "
   ]
  }
 ],
 "metadata": {
  "kernelspec": {
   "display_name": "Python 3",
   "language": "python",
   "name": "python3"
  },
  "language_info": {
   "codemirror_mode": {
    "name": "ipython",
    "version": 3
   },
   "file_extension": ".py",
   "mimetype": "text/x-python",
   "name": "python",
   "nbconvert_exporter": "python",
   "pygments_lexer": "ipython3",
   "version": "3.7.3"
  }
 },
 "nbformat": 4,
 "nbformat_minor": 2
}
